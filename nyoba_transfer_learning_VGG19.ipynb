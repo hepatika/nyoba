{
  "nbformat": 4,
  "nbformat_minor": 0,
  "metadata": {
    "kernelspec": {
      "display_name": "Python 3",
      "language": "python",
      "name": "python3"
    },
    "language_info": {
      "codemirror_mode": {
        "name": "ipython",
        "version": 3
      },
      "file_extension": ".py",
      "mimetype": "text/x-python",
      "name": "python",
      "nbconvert_exporter": "python",
      "pygments_lexer": "ipython3",
      "version": "3.7.7"
    },
    "colab": {
      "name": "nyoba transfer learning VGG19",
      "provenance": [],
      "collapsed_sections": []
    },
    "accelerator": "GPU"
  },
  "cells": [
    {
      "cell_type": "code",
      "metadata": {
        "id": "KFzZcG653q7C",
        "colab_type": "code",
        "colab": {
          "base_uri": "https://localhost:8080/",
          "height": 107
        },
        "outputId": "19c338ec-9369-431a-9b5c-68b3903aa1d7"
      },
      "source": [
        "#import libraries\n",
        "import keras\n",
        "import numpy as np\n",
        "from keras.models import Sequential,Model\n",
        "from keras.layers import Conv2D,MaxPooling2D\n",
        "from keras.layers import Activation, Dense, Flatten, Dropout\n",
        "from keras.preprocessing.image import ImageDataGenerator\n",
        "from keras import backend as K\n",
        "from keras.optimizers import Adam,RMSprop\n",
        "from keras.callbacks import ModelCheckpoint, EarlyStopping\n",
        "import tensorflow.compat.v1 as tf\n",
        "tf.disable_v2_behavior()\n",
        "import os\n",
        "from PIL import Image\n",
        "from sklearn.model_selection import train_test_split, StratifiedKFold\n",
        "from sklearn.preprocessing import OneHotEncoder\n",
        "import matplotlib.pyplot as plt\n",
        "from matplotlib.pyplot import imshow\n",
        "import pandas as pd\n",
        "import os.path"
      ],
      "execution_count": null,
      "outputs": [
        {
          "output_type": "stream",
          "text": [
            "Using TensorFlow backend.\n"
          ],
          "name": "stderr"
        },
        {
          "output_type": "stream",
          "text": [
            "WARNING:tensorflow:From /usr/local/lib/python3.6/dist-packages/tensorflow/python/compat/v2_compat.py:96: disable_resource_variables (from tensorflow.python.ops.variable_scope) is deprecated and will be removed in a future version.\n",
            "Instructions for updating:\n",
            "non-resource variables are not supported in the long term\n"
          ],
          "name": "stdout"
        }
      ]
    },
    {
      "cell_type": "code",
      "metadata": {
        "id": "KZ-nMdPQfY6L",
        "colab_type": "code",
        "colab": {
          "base_uri": "https://localhost:8080/",
          "height": 35
        },
        "outputId": "0fcee654-c673-4476-bc64-c7e8b3e93ec8"
      },
      "source": [
        "device_name = tf.test.gpu_device_name()\n",
        "if device_name != '/device:GPU:0':\n",
        "  raise SystemError('GPU device not found')\n",
        "print('Found GPU at: {}'.format(device_name))"
      ],
      "execution_count": null,
      "outputs": [
        {
          "output_type": "stream",
          "text": [
            "Found GPU at: /device:GPU:0\n"
          ],
          "name": "stdout"
        }
      ]
    },
    {
      "cell_type": "code",
      "metadata": {
        "id": "5_yCqBYNUNAH",
        "colab_type": "code",
        "colab": {
          "base_uri": "https://localhost:8080/",
          "height": 485
        },
        "outputId": "90aa3a26-5cfa-4b23-ce9d-17aece2700b5"
      },
      "source": [
        "from tensorflow.python.client import device_lib\n",
        "device_lib.list_local_devices()"
      ],
      "execution_count": null,
      "outputs": [
        {
          "output_type": "execute_result",
          "data": {
            "text/plain": [
              "[name: \"/device:CPU:0\"\n",
              " device_type: \"CPU\"\n",
              " memory_limit: 268435456\n",
              " locality {\n",
              " }\n",
              " incarnation: 6312947926677532616, name: \"/device:XLA_CPU:0\"\n",
              " device_type: \"XLA_CPU\"\n",
              " memory_limit: 17179869184\n",
              " locality {\n",
              " }\n",
              " incarnation: 17794792716437899876\n",
              " physical_device_desc: \"device: XLA_CPU device\", name: \"/device:XLA_GPU:0\"\n",
              " device_type: \"XLA_GPU\"\n",
              " memory_limit: 17179869184\n",
              " locality {\n",
              " }\n",
              " incarnation: 16183461986558674470\n",
              " physical_device_desc: \"device: XLA_GPU device\", name: \"/device:GPU:0\"\n",
              " device_type: \"GPU\"\n",
              " memory_limit: 14648777152\n",
              " locality {\n",
              "   bus_id: 1\n",
              "   links {\n",
              "   }\n",
              " }\n",
              " incarnation: 13910182501057699337\n",
              " physical_device_desc: \"device: 0, name: Tesla T4, pci bus id: 0000:00:04.0, compute capability: 7.5\"]"
            ]
          },
          "metadata": {
            "tags": []
          },
          "execution_count": 3
        }
      ]
    },
    {
      "cell_type": "code",
      "metadata": {
        "id": "TBU8LFknfv6L",
        "colab_type": "code",
        "colab": {
          "base_uri": "https://localhost:8080/",
          "height": 124
        },
        "outputId": "63d822da-64d5-440b-cca9-e1f96011e920"
      },
      "source": [
        "from google.colab import drive\n",
        "drive.mount('/content/gdrive')"
      ],
      "execution_count": null,
      "outputs": [
        {
          "output_type": "stream",
          "text": [
            "Go to this URL in a browser: https://accounts.google.com/o/oauth2/auth?client_id=947318989803-6bn6qk8qdgf4n4g3pfee6491hc0brc4i.apps.googleusercontent.com&redirect_uri=urn%3aietf%3awg%3aoauth%3a2.0%3aoob&response_type=code&scope=email%20https%3a%2f%2fwww.googleapis.com%2fauth%2fdocs.test%20https%3a%2f%2fwww.googleapis.com%2fauth%2fdrive%20https%3a%2f%2fwww.googleapis.com%2fauth%2fdrive.photos.readonly%20https%3a%2f%2fwww.googleapis.com%2fauth%2fpeopleapi.readonly\n",
            "\n",
            "Enter your authorization code:\n",
            "··········\n",
            "Mounted at /content/gdrive\n"
          ],
          "name": "stdout"
        }
      ]
    },
    {
      "cell_type": "code",
      "metadata": {
        "id": "odAQUvzE4B0q",
        "colab_type": "code",
        "colab": {
          "base_uri": "https://localhost:8080/",
          "height": 35
        },
        "outputId": "70f575b8-1e1b-49a9-af1f-e3f66e3f57c7"
      },
      "source": [
        "os.listdir('gdrive/My Drive/Colab Notebooks/Pre-Trained/vgg19/')"
      ],
      "execution_count": null,
      "outputs": [
        {
          "output_type": "execute_result",
          "data": {
            "text/plain": [
              "['testing2', 'train', 'models', 'models2', 'models3', 'models4', 'models5']"
            ]
          },
          "metadata": {
            "tags": []
          },
          "execution_count": 5
        }
      ]
    },
    {
      "cell_type": "code",
      "metadata": {
        "id": "6pUFIp4i4G4s",
        "colab_type": "code",
        "colab": {}
      },
      "source": [
        "enc = OneHotEncoder()\n",
        "enc.fit([[0], [1], [2]]) \n",
        "def names(number):\n",
        "    if(number == 0):\n",
        "        return 'Abnormal Leukemia'\n",
        "    elif(number== 1):\n",
        "        return 'Normal Leukemia'\n",
        "    else:\n",
        "        return 'Normal'"
      ],
      "execution_count": null,
      "outputs": []
    },
    {
      "cell_type": "code",
      "metadata": {
        "id": "LUtMZDkf4e7R",
        "colab_type": "code",
        "colab": {
          "base_uri": "https://localhost:8080/",
          "height": 35
        },
        "outputId": "935a98f8-c601-43a9-e046-6816e7e67b8a"
      },
      "source": [
        "data = []\n",
        "paths = []\n",
        "ans = []\n",
        "for r, d, f in os.walk('gdrive/My Drive/Colab Notebooks/cnn/train-skenario2/abnormal100'):\n",
        "    for file in f:\n",
        "        if '.jpg' in file:\n",
        "            paths.append(os.path.join(r, file))\n",
        "\n",
        "for path in paths:\n",
        "    img = Image.open(path)\n",
        "    x = img.resize((224, 224,))\n",
        "    x = np.array(x)\n",
        "    if(x.shape == (224,224,3)):\n",
        "        data.append(np.array(x))\n",
        "        ans.append(enc.transform([[0]]).toarray())\n",
        "\n",
        "len(ans)"
      ],
      "execution_count": null,
      "outputs": [
        {
          "output_type": "execute_result",
          "data": {
            "text/plain": [
              "100"
            ]
          },
          "metadata": {
            "tags": []
          },
          "execution_count": 7
        }
      ]
    },
    {
      "cell_type": "code",
      "metadata": {
        "id": "YSOtty_G5NTc",
        "colab_type": "code",
        "colab": {
          "base_uri": "https://localhost:8080/",
          "height": 35
        },
        "outputId": "914d3597-79e5-4f58-c513-ae4f65f61917"
      },
      "source": [
        "paths = []\n",
        "for r, d, f in os.walk('gdrive/My Drive/Colab Notebooks/cnn/train-skenario2/normal_leukemia100'):\n",
        "    for file in f:\n",
        "        if '.jpg' in file:\n",
        "            paths.append(os.path.join(r, file))\n",
        "\n",
        "for path in paths:\n",
        "    img = Image.open(path)\n",
        "    x = img.resize((224,224))\n",
        "    x = np.array(x)\n",
        "    if(x.shape == (224,224,3)):\n",
        "        data.append(np.array(x))\n",
        "        ans.append(enc.transform([[1]]).toarray())\n",
        "        \n",
        "len(ans)"
      ],
      "execution_count": null,
      "outputs": [
        {
          "output_type": "execute_result",
          "data": {
            "text/plain": [
              "200"
            ]
          },
          "metadata": {
            "tags": []
          },
          "execution_count": 8
        }
      ]
    },
    {
      "cell_type": "code",
      "metadata": {
        "id": "8v7sIyfv5O5Z",
        "colab_type": "code",
        "colab": {
          "base_uri": "https://localhost:8080/",
          "height": 35
        },
        "outputId": "ba5f47f3-11e2-4664-99c5-940c579f6566"
      },
      "source": [
        "paths = []\n",
        "for r, d, f in os.walk('gdrive/My Drive/Colab Notebooks/cnn/train-skenario2/normal_noncancer100'):\n",
        "    for file in f:\n",
        "        if '.jpg' in file:\n",
        "            paths.append(os.path.join(r, file))\n",
        "\n",
        "for path in paths:\n",
        "    img = Image.open(path)\n",
        "    x = img.resize((224,224))\n",
        "    x = np.array(x)\n",
        "    if(x.shape == (224,224,3)):\n",
        "        data.append(np.array(x))\n",
        "        ans.append(enc.transform([[2]]).toarray())\n",
        "        \n",
        "len(ans)"
      ],
      "execution_count": null,
      "outputs": [
        {
          "output_type": "execute_result",
          "data": {
            "text/plain": [
              "300"
            ]
          },
          "metadata": {
            "tags": []
          },
          "execution_count": 9
        }
      ]
    },
    {
      "cell_type": "code",
      "metadata": {
        "id": "TKinrrBh5WF3",
        "colab_type": "code",
        "colab": {
          "base_uri": "https://localhost:8080/",
          "height": 35
        },
        "outputId": "6af9b5d9-2dad-4ed0-96e9-ffdeace8c288"
      },
      "source": [
        "data = np.array(data)\n",
        "data.shape"
      ],
      "execution_count": null,
      "outputs": [
        {
          "output_type": "execute_result",
          "data": {
            "text/plain": [
              "(300, 224, 224, 3)"
            ]
          },
          "metadata": {
            "tags": []
          },
          "execution_count": 10
        }
      ]
    },
    {
      "cell_type": "code",
      "metadata": {
        "id": "GlhJp4aA5aCJ",
        "colab_type": "code",
        "colab": {}
      },
      "source": [
        "ans = np.array(ans)\n",
        "ans = ans.reshape(len(ans),3)"
      ],
      "execution_count": null,
      "outputs": []
    },
    {
      "cell_type": "code",
      "metadata": {
        "id": "9sfW-eTs_27G",
        "colab_type": "code",
        "colab": {}
      },
      "source": [
        "enc2 = OneHotEncoder()\n",
        "enc2.fit([[0], [1], [2]]) \n",
        "def names(number):\n",
        "    if(number == 0):\n",
        "        return 'Abnormal Leukemia'\n",
        "    elif(number== 1):\n",
        "        return 'Normal Leukemia'\n",
        "    else:\n",
        "        return 'Normal'"
      ],
      "execution_count": null,
      "outputs": []
    },
    {
      "cell_type": "code",
      "metadata": {
        "id": "WJvVPzDHANAw",
        "colab_type": "code",
        "colab": {
          "base_uri": "https://localhost:8080/",
          "height": 35
        },
        "outputId": "a11e83ae-5efe-4ac1-d649-b262af3788ec"
      },
      "source": [
        "data2 = []\n",
        "paths2 = []\n",
        "ans2 = []\n",
        "for s, n, z in os.walk('gdrive/My Drive/Colab Notebooks/Pre-Trained/vgg19/testing2/abnormal'):\n",
        "    for file in z:\n",
        "        if '.jpg' in file:\n",
        "            paths2.append(os.path.join(s, file))\n",
        "\n",
        "for path in paths2:\n",
        "    img = Image.open(path)\n",
        "    x = img.resize((224,224))\n",
        "    x = np.array(x)\n",
        "    if(x.shape == (224,224, 3)):\n",
        "        data2.append(np.array(x))\n",
        "        ans2.append(enc2.transform([[0]]).toarray())\n",
        "\n",
        "len(ans2)"
      ],
      "execution_count": null,
      "outputs": [
        {
          "output_type": "execute_result",
          "data": {
            "text/plain": [
              "3"
            ]
          },
          "metadata": {
            "tags": []
          },
          "execution_count": 14
        }
      ]
    },
    {
      "cell_type": "code",
      "metadata": {
        "id": "8eXMVrrQmGjJ",
        "colab_type": "code",
        "colab": {
          "base_uri": "https://localhost:8080/",
          "height": 35
        },
        "outputId": "cf19556a-28f6-4c3e-bc1e-eaf34919679e"
      },
      "source": [
        "paths2 = []\n",
        "for s, n, z in os.walk('gdrive/My Drive/Colab Notebooks/Pre-Trained/vgg19/testing2/normal_leukemia'):\n",
        "    for file in z:\n",
        "        if '.jpg' in file:\n",
        "            paths2.append(os.path.join(s, file))\n",
        "\n",
        "for path in paths2:\n",
        "    img = Image.open(path)\n",
        "    x = img.resize((224,224))\n",
        "    x = np.array(x)\n",
        "    if(x.shape == (224,224,3)):\n",
        "        data2.append(np.array(x))\n",
        "        ans2.append(enc2.transform([[1]]).toarray())\n",
        "\n",
        "len(ans2)"
      ],
      "execution_count": null,
      "outputs": [
        {
          "output_type": "execute_result",
          "data": {
            "text/plain": [
              "6"
            ]
          },
          "metadata": {
            "tags": []
          },
          "execution_count": 15
        }
      ]
    },
    {
      "cell_type": "code",
      "metadata": {
        "id": "FqooBalGmOEm",
        "colab_type": "code",
        "colab": {
          "base_uri": "https://localhost:8080/",
          "height": 35
        },
        "outputId": "a9b0f899-f355-42c5-978d-d02ceee0b4d2"
      },
      "source": [
        "paths2 = []\n",
        "for s, n, z in os.walk('gdrive/My Drive/Colab Notebooks/Pre-Trained/vgg19/testing2/normal_noncancer'):\n",
        "    for file in z:\n",
        "        if '.jpg' in file:\n",
        "            paths2.append(os.path.join(s, file))\n",
        "\n",
        "for path in paths2:\n",
        "    img = Image.open(path)\n",
        "    x = img.resize((224,224))\n",
        "    x = np.array(x)\n",
        "    if(x.shape == (224,224,3)):\n",
        "        data2.append(np.array(x))\n",
        "        ans2.append(enc2.transform([[2]]).toarray())\n",
        "\n",
        "len(ans2)"
      ],
      "execution_count": null,
      "outputs": [
        {
          "output_type": "execute_result",
          "data": {
            "text/plain": [
              "9"
            ]
          },
          "metadata": {
            "tags": []
          },
          "execution_count": 16
        }
      ]
    },
    {
      "cell_type": "code",
      "metadata": {
        "id": "IOvTW3UqmVxc",
        "colab_type": "code",
        "colab": {
          "base_uri": "https://localhost:8080/",
          "height": 35
        },
        "outputId": "5bf40072-1a27-489e-c388-ffbcdc2584bb"
      },
      "source": [
        "data2 = np.array(data2)\n",
        "data2.shape"
      ],
      "execution_count": null,
      "outputs": [
        {
          "output_type": "execute_result",
          "data": {
            "text/plain": [
              "(9, 224, 224, 3)"
            ]
          },
          "metadata": {
            "tags": []
          },
          "execution_count": 17
        }
      ]
    },
    {
      "cell_type": "code",
      "metadata": {
        "id": "MCbRuv49mYjY",
        "colab_type": "code",
        "colab": {}
      },
      "source": [
        "ans2 = np.array(ans2)\n",
        "ans2 = ans2.reshape(len(ans2),3)"
      ],
      "execution_count": null,
      "outputs": []
    },
    {
      "cell_type": "code",
      "metadata": {
        "id": "Gi4pCIVomeFt",
        "colab_type": "code",
        "colab": {}
      },
      "source": [
        "# x_train,x_val,y_train,y_val = train_test_split(data, ans, test_size=0.2, shuffle=True, random_state=2)\n",
        "\n",
        "best_score = 0.0\n",
        "best_fold_index=0\n",
        "i=0\n",
        "input_shape = ( 224, 224, 3 )\n",
        "fold_history = []\n",
        "index = 0"
      ],
      "execution_count": null,
      "outputs": []
    },
    {
      "cell_type": "code",
      "metadata": {
        "id": "GwR_Q4A2m0a5",
        "colab_type": "code",
        "colab": {
          "base_uri": "https://localhost:8080/",
          "height": 124
        },
        "outputId": "631b26dd-659f-40f9-8fd3-e108367a15ed"
      },
      "source": [
        "from keras.applications.vgg19 import VGG19\n",
        "model =VGG19(weights = \"imagenet\", include_top=False, input_shape = input_shape)\n",
        "#model.layers"
      ],
      "execution_count": null,
      "outputs": [
        {
          "output_type": "stream",
          "text": [
            "WARNING:tensorflow:From /usr/local/lib/python3.6/dist-packages/tensorflow/python/ops/resource_variable_ops.py:1666: calling BaseResourceVariable.__init__ (from tensorflow.python.ops.resource_variable_ops) with constraint is deprecated and will be removed in a future version.\n",
            "Instructions for updating:\n",
            "If using Keras pass *_constraint arguments to layers.\n",
            "Downloading data from https://github.com/fchollet/deep-learning-models/releases/download/v0.1/vgg19_weights_tf_dim_ordering_tf_kernels_notop.h5\n",
            "80142336/80134624 [==============================] - 7s 0us/step\n"
          ],
          "name": "stdout"
        }
      ]
    },
    {
      "cell_type": "code",
      "metadata": {
        "id": "3BOc3X27m6PA",
        "colab_type": "code",
        "colab": {
          "base_uri": "https://localhost:8080/",
          "height": 919
        },
        "outputId": "8ada9355-228e-4797-fdda-eb072e76c4d0"
      },
      "source": [
        "model.summary()"
      ],
      "execution_count": null,
      "outputs": [
        {
          "output_type": "stream",
          "text": [
            "Model: \"vgg19\"\n",
            "_________________________________________________________________\n",
            "Layer (type)                 Output Shape              Param #   \n",
            "=================================================================\n",
            "input_1 (InputLayer)         (None, 224, 224, 3)       0         \n",
            "_________________________________________________________________\n",
            "block1_conv1 (Conv2D)        (None, 224, 224, 64)      1792      \n",
            "_________________________________________________________________\n",
            "block1_conv2 (Conv2D)        (None, 224, 224, 64)      36928     \n",
            "_________________________________________________________________\n",
            "block1_pool (MaxPooling2D)   (None, 112, 112, 64)      0         \n",
            "_________________________________________________________________\n",
            "block2_conv1 (Conv2D)        (None, 112, 112, 128)     73856     \n",
            "_________________________________________________________________\n",
            "block2_conv2 (Conv2D)        (None, 112, 112, 128)     147584    \n",
            "_________________________________________________________________\n",
            "block2_pool (MaxPooling2D)   (None, 56, 56, 128)       0         \n",
            "_________________________________________________________________\n",
            "block3_conv1 (Conv2D)        (None, 56, 56, 256)       295168    \n",
            "_________________________________________________________________\n",
            "block3_conv2 (Conv2D)        (None, 56, 56, 256)       590080    \n",
            "_________________________________________________________________\n",
            "block3_conv3 (Conv2D)        (None, 56, 56, 256)       590080    \n",
            "_________________________________________________________________\n",
            "block3_conv4 (Conv2D)        (None, 56, 56, 256)       590080    \n",
            "_________________________________________________________________\n",
            "block3_pool (MaxPooling2D)   (None, 28, 28, 256)       0         \n",
            "_________________________________________________________________\n",
            "block4_conv1 (Conv2D)        (None, 28, 28, 512)       1180160   \n",
            "_________________________________________________________________\n",
            "block4_conv2 (Conv2D)        (None, 28, 28, 512)       2359808   \n",
            "_________________________________________________________________\n",
            "block4_conv3 (Conv2D)        (None, 28, 28, 512)       2359808   \n",
            "_________________________________________________________________\n",
            "block4_conv4 (Conv2D)        (None, 28, 28, 512)       2359808   \n",
            "_________________________________________________________________\n",
            "block4_pool (MaxPooling2D)   (None, 14, 14, 512)       0         \n",
            "_________________________________________________________________\n",
            "block5_conv1 (Conv2D)        (None, 14, 14, 512)       2359808   \n",
            "_________________________________________________________________\n",
            "block5_conv2 (Conv2D)        (None, 14, 14, 512)       2359808   \n",
            "_________________________________________________________________\n",
            "block5_conv3 (Conv2D)        (None, 14, 14, 512)       2359808   \n",
            "_________________________________________________________________\n",
            "block5_conv4 (Conv2D)        (None, 14, 14, 512)       2359808   \n",
            "_________________________________________________________________\n",
            "block5_pool (MaxPooling2D)   (None, 7, 7, 512)         0         \n",
            "=================================================================\n",
            "Total params: 20,024,384\n",
            "Trainable params: 20,024,384\n",
            "Non-trainable params: 0\n",
            "_________________________________________________________________\n"
          ],
          "name": "stdout"
        }
      ]
    },
    {
      "cell_type": "code",
      "metadata": {
        "id": "5Psmc7cgm_wf",
        "colab_type": "code",
        "colab": {}
      },
      "source": [
        "for layer in model.layers[:8]:\n",
        "    layer.trainable = False\n",
        "\n",
        "#Adding custom Layers \n",
        "x = model.output\n",
        "#x=Conv2D(filters = 64,kernel_size = 5,activation='relu',padding='same')(x)\n",
        "x = Flatten()(x)\n",
        "# x = Dense(512, activation=\"relu\")(x)\n",
        "x = Dropout(0.25)(x)\n",
        "x = Dropout(0.5)(x)\n",
        "predictions = Dense(3, activation=\"softmax\")(x)"
      ],
      "execution_count": null,
      "outputs": []
    },
    {
      "cell_type": "code",
      "metadata": {
        "id": "6JS-i1-rnI3C",
        "colab_type": "code",
        "colab": {}
      },
      "source": [
        "model = Model(inputs=model.input, outputs=predictions)"
      ],
      "execution_count": null,
      "outputs": []
    },
    {
      "cell_type": "code",
      "metadata": {
        "id": "s_QKd5PmnL3o",
        "colab_type": "code",
        "colab": {
          "base_uri": "https://localhost:8080/",
          "height": 1000
        },
        "outputId": "80456c16-801e-4c45-e827-e554387736f1"
      },
      "source": [
        "model.summary()"
      ],
      "execution_count": null,
      "outputs": [
        {
          "output_type": "stream",
          "text": [
            "Model: \"model_1\"\n",
            "_________________________________________________________________\n",
            "Layer (type)                 Output Shape              Param #   \n",
            "=================================================================\n",
            "input_1 (InputLayer)         (None, 224, 224, 3)       0         \n",
            "_________________________________________________________________\n",
            "block1_conv1 (Conv2D)        (None, 224, 224, 64)      1792      \n",
            "_________________________________________________________________\n",
            "block1_conv2 (Conv2D)        (None, 224, 224, 64)      36928     \n",
            "_________________________________________________________________\n",
            "block1_pool (MaxPooling2D)   (None, 112, 112, 64)      0         \n",
            "_________________________________________________________________\n",
            "block2_conv1 (Conv2D)        (None, 112, 112, 128)     73856     \n",
            "_________________________________________________________________\n",
            "block2_conv2 (Conv2D)        (None, 112, 112, 128)     147584    \n",
            "_________________________________________________________________\n",
            "block2_pool (MaxPooling2D)   (None, 56, 56, 128)       0         \n",
            "_________________________________________________________________\n",
            "block3_conv1 (Conv2D)        (None, 56, 56, 256)       295168    \n",
            "_________________________________________________________________\n",
            "block3_conv2 (Conv2D)        (None, 56, 56, 256)       590080    \n",
            "_________________________________________________________________\n",
            "block3_conv3 (Conv2D)        (None, 56, 56, 256)       590080    \n",
            "_________________________________________________________________\n",
            "block3_conv4 (Conv2D)        (None, 56, 56, 256)       590080    \n",
            "_________________________________________________________________\n",
            "block3_pool (MaxPooling2D)   (None, 28, 28, 256)       0         \n",
            "_________________________________________________________________\n",
            "block4_conv1 (Conv2D)        (None, 28, 28, 512)       1180160   \n",
            "_________________________________________________________________\n",
            "block4_conv2 (Conv2D)        (None, 28, 28, 512)       2359808   \n",
            "_________________________________________________________________\n",
            "block4_conv3 (Conv2D)        (None, 28, 28, 512)       2359808   \n",
            "_________________________________________________________________\n",
            "block4_conv4 (Conv2D)        (None, 28, 28, 512)       2359808   \n",
            "_________________________________________________________________\n",
            "block4_pool (MaxPooling2D)   (None, 14, 14, 512)       0         \n",
            "_________________________________________________________________\n",
            "block5_conv1 (Conv2D)        (None, 14, 14, 512)       2359808   \n",
            "_________________________________________________________________\n",
            "block5_conv2 (Conv2D)        (None, 14, 14, 512)       2359808   \n",
            "_________________________________________________________________\n",
            "block5_conv3 (Conv2D)        (None, 14, 14, 512)       2359808   \n",
            "_________________________________________________________________\n",
            "block5_conv4 (Conv2D)        (None, 14, 14, 512)       2359808   \n",
            "_________________________________________________________________\n",
            "block5_pool (MaxPooling2D)   (None, 7, 7, 512)         0         \n",
            "_________________________________________________________________\n",
            "flatten_1 (Flatten)          (None, 25088)             0         \n",
            "_________________________________________________________________\n",
            "dropout_1 (Dropout)          (None, 25088)             0         \n",
            "_________________________________________________________________\n",
            "dropout_2 (Dropout)          (None, 25088)             0         \n",
            "_________________________________________________________________\n",
            "dense_1 (Dense)              (None, 3)                 75267     \n",
            "=================================================================\n",
            "Total params: 20,099,651\n",
            "Trainable params: 19,544,323\n",
            "Non-trainable params: 555,328\n",
            "_________________________________________________________________\n"
          ],
          "name": "stdout"
        }
      ]
    },
    {
      "cell_type": "code",
      "metadata": {
        "id": "eI6JOg3CnRZl",
        "colab_type": "code",
        "colab": {}
      },
      "source": [
        "from keras.optimizers import SGD\n",
        "\n",
        "#compile the model\n",
        "sgd = SGD(lr=3e-4, decay=1e-5, momentum=0.1, nesterov=True)\n",
        "# opt = Adam(lr=0.0001)\n",
        "model.compile(optimizer=sgd, loss='categorical_crossentropy', metrics=['acc'])"
      ],
      "execution_count": null,
      "outputs": []
    },
    {
      "cell_type": "code",
      "metadata": {
        "id": "SC9GDLJEnloa",
        "colab_type": "code",
        "colab": {
          "base_uri": "https://localhost:8080/",
          "height": 1000
        },
        "outputId": "b5fd3fdc-0b95-457b-f9c0-6005635307b4"
      },
      "source": [
        "skf = StratifiedKFold(n_splits=5, shuffle=True, random_state=2)\n",
        "\n",
        "Y_non_one_hot = np.array([np.where(r == 1)[0][0] for r in ans])\n",
        "for index, (train_indices, val_indices) in enumerate(skf.split(data, Y_non_one_hot)):\n",
        "    # print(\"Ini fold ke {}\".format(index + 1))\n",
        "    # print(train_indices)\n",
        "    X_train_cv = data[train_indices]\n",
        "    X_val_cv = data[val_indices]\n",
        "    Y_train_cv = ans[train_indices]\n",
        "    Y_val_cv = ans[val_indices]\n",
        "    \n",
        "    data_split = {'X_train': X_train_cv, 'X_val': X_val_cv, 'Y_train': Y_train_cv,\n",
        "                  'Y_val': Y_val_cv, 'train_index': train_indices, 'val_index': val_indices}\n",
        "    model_path = \"gdrive/My Drive/Colab Notebooks/Pre-Trained/vgg19/freeze/model6/\"\n",
        "    \n",
        "    if not os.path.exists(model_path):\n",
        "      os.makedirs(model_path)\n",
        "    filepath = model_path + \\\n",
        "          \"fold_{}_\".format(index + 1) + \\\n",
        "          \"epochs-{epoch:03d}-val_acc-{val_acc:.3f}.hdf5\"\n",
        "    filepath2 = model_path + \"best_weight_fold_{}.hdf5\".format(index + 1)\n",
        "    early_stopping = EarlyStopping(monitor='val_acc', patience=10, verbose=1, restore_best_weights=True)\n",
        "\n",
        "    epoch_awal = 0\n",
        "    epoch_akhir =15\n",
        "    early_stopping = EarlyStopping(monitor='val_acc', patience=10, verbose=1, restore_best_weights=True)\n",
        "    checkpoint = ModelCheckpoint(filepath, monitor='loss', save_weights_only=True, verbose=1, save_best_only=True, mode='min')\n",
        "    checkpoint2 = ModelCheckpoint(filepath2, monitor='loss', save_weights_only=True, verbose=1, save_best_only=True, mode='min')\n",
        "    callbacks_list = [checkpoint, early_stopping, checkpoint2]\n",
        "\n",
        "    history = model.fit(X_train_cv, Y_train_cv, batch_size=8, initial_epoch=epoch_awal,\n",
        "                        epochs=epoch_akhir, verbose=1, validation_data=(X_val_cv, Y_val_cv), callbacks=callbacks_list)\n",
        "                    \n",
        "    fold_history.append(history)"
      ],
      "execution_count": null,
      "outputs": [
        {
          "output_type": "stream",
          "text": [
            "Train on 240 samples, validate on 60 samples\n",
            "Epoch 1/15\n",
            "240/240 [==============================] - 5s 23ms/step - loss: 0.4580 - acc: 0.9125 - val_loss: 0.5514 - val_acc: 0.8667\n",
            "\n",
            "Epoch 00001: loss improved from inf to 0.45803, saving model to gdrive/My Drive/Colab Notebooks/Pre-Trained/vgg19/freeze/model6/fold_1_epochs-001-val_acc-0.867.hdf5\n",
            "\n",
            "Epoch 00001: loss improved from inf to 0.45803, saving model to gdrive/My Drive/Colab Notebooks/Pre-Trained/vgg19/freeze/model6/best_weight_fold_1.hdf5\n",
            "Epoch 2/15\n",
            "240/240 [==============================] - 5s 22ms/step - loss: 0.1934 - acc: 0.9458 - val_loss: 0.5405 - val_acc: 0.8833\n",
            "\n",
            "Epoch 00002: loss improved from 0.45803 to 0.19343, saving model to gdrive/My Drive/Colab Notebooks/Pre-Trained/vgg19/freeze/model6/fold_1_epochs-002-val_acc-0.883.hdf5\n",
            "\n",
            "Epoch 00002: loss improved from 0.45803 to 0.19343, saving model to gdrive/My Drive/Colab Notebooks/Pre-Trained/vgg19/freeze/model6/best_weight_fold_1.hdf5\n",
            "Epoch 3/15\n",
            "240/240 [==============================] - 5s 23ms/step - loss: 0.1537 - acc: 0.9667 - val_loss: 0.7049 - val_acc: 0.9333\n",
            "\n",
            "Epoch 00003: loss improved from 0.19343 to 0.15373, saving model to gdrive/My Drive/Colab Notebooks/Pre-Trained/vgg19/freeze/model6/fold_1_epochs-003-val_acc-0.933.hdf5\n",
            "\n",
            "Epoch 00003: loss improved from 0.19343 to 0.15373, saving model to gdrive/My Drive/Colab Notebooks/Pre-Trained/vgg19/freeze/model6/best_weight_fold_1.hdf5\n",
            "Epoch 4/15\n",
            "240/240 [==============================] - 5s 23ms/step - loss: 0.0513 - acc: 0.9875 - val_loss: 0.7986 - val_acc: 0.9000\n",
            "\n",
            "Epoch 00004: loss improved from 0.15373 to 0.05129, saving model to gdrive/My Drive/Colab Notebooks/Pre-Trained/vgg19/freeze/model6/fold_1_epochs-004-val_acc-0.900.hdf5\n",
            "\n",
            "Epoch 00004: loss improved from 0.15373 to 0.05129, saving model to gdrive/My Drive/Colab Notebooks/Pre-Trained/vgg19/freeze/model6/best_weight_fold_1.hdf5\n",
            "Epoch 5/15\n",
            "240/240 [==============================] - 5s 23ms/step - loss: 0.1183 - acc: 0.9542 - val_loss: 0.4689 - val_acc: 0.9333\n",
            "\n",
            "Epoch 00005: loss did not improve from 0.05129\n",
            "\n",
            "Epoch 00005: loss did not improve from 0.05129\n",
            "Epoch 6/15\n",
            "240/240 [==============================] - 5s 23ms/step - loss: 0.1341 - acc: 0.9667 - val_loss: 0.6406 - val_acc: 0.8500\n",
            "\n",
            "Epoch 00006: loss did not improve from 0.05129\n",
            "\n",
            "Epoch 00006: loss did not improve from 0.05129\n",
            "Epoch 7/15\n",
            "240/240 [==============================] - 5s 22ms/step - loss: 0.0953 - acc: 0.9625 - val_loss: 1.6511 - val_acc: 0.8000\n",
            "\n",
            "Epoch 00007: loss did not improve from 0.05129\n",
            "\n",
            "Epoch 00007: loss did not improve from 0.05129\n",
            "Epoch 8/15\n",
            "240/240 [==============================] - 5s 22ms/step - loss: 0.3133 - acc: 0.9458 - val_loss: 1.0585 - val_acc: 0.8667\n",
            "\n",
            "Epoch 00008: loss did not improve from 0.05129\n",
            "\n",
            "Epoch 00008: loss did not improve from 0.05129\n",
            "Epoch 9/15\n",
            "240/240 [==============================] - 5s 22ms/step - loss: 0.1851 - acc: 0.9375 - val_loss: 0.8772 - val_acc: 0.9167\n",
            "\n",
            "Epoch 00009: loss did not improve from 0.05129\n",
            "\n",
            "Epoch 00009: loss did not improve from 0.05129\n",
            "Epoch 10/15\n",
            "240/240 [==============================] - 5s 22ms/step - loss: 0.1996 - acc: 0.9458 - val_loss: 1.6848 - val_acc: 0.8000\n",
            "\n",
            "Epoch 00010: loss did not improve from 0.05129\n",
            "\n",
            "Epoch 00010: loss did not improve from 0.05129\n",
            "Epoch 11/15\n",
            "240/240 [==============================] - 5s 22ms/step - loss: 0.4658 - acc: 0.8917 - val_loss: 0.6486 - val_acc: 0.9000\n",
            "\n",
            "Epoch 00011: loss did not improve from 0.05129\n",
            "\n",
            "Epoch 00011: loss did not improve from 0.05129\n",
            "Epoch 12/15\n",
            "240/240 [==============================] - 5s 22ms/step - loss: 0.1264 - acc: 0.9500 - val_loss: 0.6337 - val_acc: 0.9833\n",
            "\n",
            "Epoch 00012: loss did not improve from 0.05129\n",
            "\n",
            "Epoch 00012: loss did not improve from 0.05129\n",
            "Epoch 13/15\n",
            "240/240 [==============================] - 5s 22ms/step - loss: 0.0822 - acc: 0.9833 - val_loss: 1.1293 - val_acc: 0.9333\n",
            "\n",
            "Epoch 00013: loss did not improve from 0.05129\n",
            "\n",
            "Epoch 00013: loss did not improve from 0.05129\n",
            "Epoch 14/15\n",
            "240/240 [==============================] - 5s 22ms/step - loss: 0.0471 - acc: 0.9875 - val_loss: 1.4984 - val_acc: 0.9500\n",
            "\n",
            "Epoch 00014: loss improved from 0.05129 to 0.04708, saving model to gdrive/My Drive/Colab Notebooks/Pre-Trained/vgg19/freeze/model6/fold_1_epochs-014-val_acc-0.950.hdf5\n",
            "\n",
            "Epoch 00014: loss improved from 0.05129 to 0.04708, saving model to gdrive/My Drive/Colab Notebooks/Pre-Trained/vgg19/freeze/model6/best_weight_fold_1.hdf5\n",
            "Epoch 15/15\n",
            "240/240 [==============================] - 5s 22ms/step - loss: 0.6786 - acc: 0.8875 - val_loss: 1.1953 - val_acc: 0.8833\n",
            "\n",
            "Epoch 00015: loss did not improve from 0.04708\n",
            "\n",
            "Epoch 00015: loss did not improve from 0.04708\n",
            "Train on 240 samples, validate on 60 samples\n",
            "Epoch 1/15\n",
            "240/240 [==============================] - 5s 22ms/step - loss: 0.8647 - acc: 0.8250 - val_loss: 0.0627 - val_acc: 0.9833\n",
            "\n",
            "Epoch 00001: loss improved from inf to 0.86471, saving model to gdrive/My Drive/Colab Notebooks/Pre-Trained/vgg19/freeze/model6/fold_2_epochs-001-val_acc-0.983.hdf5\n",
            "\n",
            "Epoch 00001: loss improved from inf to 0.86471, saving model to gdrive/My Drive/Colab Notebooks/Pre-Trained/vgg19/freeze/model6/best_weight_fold_2.hdf5\n",
            "Epoch 2/15\n",
            "240/240 [==============================] - 5s 22ms/step - loss: 0.2190 - acc: 0.9375 - val_loss: 0.1643 - val_acc: 0.9667\n",
            "\n",
            "Epoch 00002: loss improved from 0.86471 to 0.21897, saving model to gdrive/My Drive/Colab Notebooks/Pre-Trained/vgg19/freeze/model6/fold_2_epochs-002-val_acc-0.967.hdf5\n",
            "\n",
            "Epoch 00002: loss improved from 0.86471 to 0.21897, saving model to gdrive/My Drive/Colab Notebooks/Pre-Trained/vgg19/freeze/model6/best_weight_fold_2.hdf5\n",
            "Epoch 3/15\n",
            "240/240 [==============================] - 5s 22ms/step - loss: 0.1502 - acc: 0.9667 - val_loss: 0.0225 - val_acc: 0.9833\n",
            "\n",
            "Epoch 00003: loss improved from 0.21897 to 0.15021, saving model to gdrive/My Drive/Colab Notebooks/Pre-Trained/vgg19/freeze/model6/fold_2_epochs-003-val_acc-0.983.hdf5\n",
            "\n",
            "Epoch 00003: loss improved from 0.21897 to 0.15021, saving model to gdrive/My Drive/Colab Notebooks/Pre-Trained/vgg19/freeze/model6/best_weight_fold_2.hdf5\n",
            "Epoch 4/15\n",
            "240/240 [==============================] - 5s 22ms/step - loss: 0.1092 - acc: 0.9708 - val_loss: 0.0990 - val_acc: 0.9500\n",
            "\n",
            "Epoch 00004: loss improved from 0.15021 to 0.10918, saving model to gdrive/My Drive/Colab Notebooks/Pre-Trained/vgg19/freeze/model6/fold_2_epochs-004-val_acc-0.950.hdf5\n",
            "\n",
            "Epoch 00004: loss improved from 0.15021 to 0.10918, saving model to gdrive/My Drive/Colab Notebooks/Pre-Trained/vgg19/freeze/model6/best_weight_fold_2.hdf5\n",
            "Epoch 5/15\n",
            "240/240 [==============================] - 5s 22ms/step - loss: 0.1012 - acc: 0.9625 - val_loss: 0.1452 - val_acc: 0.9333\n",
            "\n",
            "Epoch 00005: loss improved from 0.10918 to 0.10117, saving model to gdrive/My Drive/Colab Notebooks/Pre-Trained/vgg19/freeze/model6/fold_2_epochs-005-val_acc-0.933.hdf5\n",
            "\n",
            "Epoch 00005: loss improved from 0.10918 to 0.10117, saving model to gdrive/My Drive/Colab Notebooks/Pre-Trained/vgg19/freeze/model6/best_weight_fold_2.hdf5\n",
            "Epoch 6/15\n",
            "240/240 [==============================] - 5s 22ms/step - loss: 0.3009 - acc: 0.9375 - val_loss: 0.1946 - val_acc: 0.9667\n",
            "\n",
            "Epoch 00006: loss did not improve from 0.10117\n",
            "\n",
            "Epoch 00006: loss did not improve from 0.10117\n",
            "Epoch 7/15\n",
            "240/240 [==============================] - 5s 22ms/step - loss: 0.3451 - acc: 0.9250 - val_loss: 0.0921 - val_acc: 0.9667\n",
            "\n",
            "Epoch 00007: loss did not improve from 0.10117\n",
            "\n",
            "Epoch 00007: loss did not improve from 0.10117\n",
            "Epoch 8/15\n",
            "240/240 [==============================] - 5s 22ms/step - loss: 0.1758 - acc: 0.9458 - val_loss: 0.1068 - val_acc: 0.9500\n",
            "\n",
            "Epoch 00008: loss did not improve from 0.10117\n",
            "\n",
            "Epoch 00008: loss did not improve from 0.10117\n",
            "Epoch 9/15\n",
            "240/240 [==============================] - 5s 22ms/step - loss: 0.1978 - acc: 0.9542 - val_loss: 0.0343 - val_acc: 0.9833\n",
            "\n",
            "Epoch 00009: loss did not improve from 0.10117\n",
            "\n",
            "Epoch 00009: loss did not improve from 0.10117\n",
            "Epoch 10/15\n",
            "240/240 [==============================] - 5s 22ms/step - loss: 0.0921 - acc: 0.9542 - val_loss: 0.0336 - val_acc: 0.9833\n",
            "\n",
            "Epoch 00010: loss improved from 0.10117 to 0.09214, saving model to gdrive/My Drive/Colab Notebooks/Pre-Trained/vgg19/freeze/model6/fold_2_epochs-010-val_acc-0.983.hdf5\n",
            "\n",
            "Epoch 00010: loss improved from 0.10117 to 0.09214, saving model to gdrive/My Drive/Colab Notebooks/Pre-Trained/vgg19/freeze/model6/best_weight_fold_2.hdf5\n",
            "Epoch 11/15\n",
            "240/240 [==============================] - 5s 22ms/step - loss: 0.0178 - acc: 0.9917 - val_loss: 0.1069 - val_acc: 0.9833\n",
            "\n",
            "Epoch 00011: loss improved from 0.09214 to 0.01779, saving model to gdrive/My Drive/Colab Notebooks/Pre-Trained/vgg19/freeze/model6/fold_2_epochs-011-val_acc-0.983.hdf5\n",
            "Restoring model weights from the end of the best epoch\n",
            "\n",
            "Epoch 00011: loss improved from 0.09214 to 0.01779, saving model to gdrive/My Drive/Colab Notebooks/Pre-Trained/vgg19/freeze/model6/best_weight_fold_2.hdf5\n",
            "Epoch 00011: early stopping\n",
            "Train on 240 samples, validate on 60 samples\n",
            "Epoch 1/15\n",
            "240/240 [==============================] - 5s 22ms/step - loss: 0.1525 - acc: 0.9458 - val_loss: 0.0919 - val_acc: 0.9500\n",
            "\n",
            "Epoch 00001: loss improved from inf to 0.15254, saving model to gdrive/My Drive/Colab Notebooks/Pre-Trained/vgg19/freeze/model6/fold_3_epochs-001-val_acc-0.950.hdf5\n",
            "\n",
            "Epoch 00001: loss improved from inf to 0.15254, saving model to gdrive/My Drive/Colab Notebooks/Pre-Trained/vgg19/freeze/model6/best_weight_fold_3.hdf5\n",
            "Epoch 2/15\n",
            "240/240 [==============================] - 5s 22ms/step - loss: 0.1079 - acc: 0.9583 - val_loss: 0.0292 - val_acc: 0.9833\n",
            "\n",
            "Epoch 00002: loss improved from 0.15254 to 0.10787, saving model to gdrive/My Drive/Colab Notebooks/Pre-Trained/vgg19/freeze/model6/fold_3_epochs-002-val_acc-0.983.hdf5\n",
            "\n",
            "Epoch 00002: loss improved from 0.15254 to 0.10787, saving model to gdrive/My Drive/Colab Notebooks/Pre-Trained/vgg19/freeze/model6/best_weight_fold_3.hdf5\n",
            "Epoch 3/15\n",
            "240/240 [==============================] - 5s 22ms/step - loss: 0.0416 - acc: 0.9833 - val_loss: 0.2280 - val_acc: 0.9333\n",
            "\n",
            "Epoch 00003: loss improved from 0.10787 to 0.04157, saving model to gdrive/My Drive/Colab Notebooks/Pre-Trained/vgg19/freeze/model6/fold_3_epochs-003-val_acc-0.933.hdf5\n",
            "\n",
            "Epoch 00003: loss improved from 0.10787 to 0.04157, saving model to gdrive/My Drive/Colab Notebooks/Pre-Trained/vgg19/freeze/model6/best_weight_fold_3.hdf5\n",
            "Epoch 4/15\n",
            "240/240 [==============================] - 5s 22ms/step - loss: 0.0747 - acc: 0.9667 - val_loss: 0.1111 - val_acc: 0.9500\n",
            "\n",
            "Epoch 00004: loss did not improve from 0.04157\n",
            "\n",
            "Epoch 00004: loss did not improve from 0.04157\n",
            "Epoch 5/15\n",
            "240/240 [==============================] - 5s 22ms/step - loss: 0.9093 - acc: 0.9292 - val_loss: 0.0552 - val_acc: 0.9833\n",
            "\n",
            "Epoch 00005: loss did not improve from 0.04157\n",
            "\n",
            "Epoch 00005: loss did not improve from 0.04157\n",
            "Epoch 6/15\n",
            "240/240 [==============================] - 5s 22ms/step - loss: 1.0843 - acc: 0.8250 - val_loss: 0.4864 - val_acc: 0.9500\n",
            "\n",
            "Epoch 00006: loss did not improve from 0.04157\n",
            "\n",
            "Epoch 00006: loss did not improve from 0.04157\n",
            "Epoch 7/15\n",
            "240/240 [==============================] - 5s 22ms/step - loss: 2.9473 - acc: 0.7667 - val_loss: 1.3768 - val_acc: 0.6500\n",
            "\n",
            "Epoch 00007: loss did not improve from 0.04157\n",
            "\n",
            "Epoch 00007: loss did not improve from 0.04157\n",
            "Epoch 8/15\n",
            "240/240 [==============================] - 5s 22ms/step - loss: 0.9772 - acc: 0.7042 - val_loss: 0.5275 - val_acc: 0.8000\n",
            "\n",
            "Epoch 00008: loss did not improve from 0.04157\n",
            "\n",
            "Epoch 00008: loss did not improve from 0.04157\n",
            "Epoch 9/15\n",
            "240/240 [==============================] - 5s 22ms/step - loss: 0.9680 - acc: 0.6875 - val_loss: 0.2794 - val_acc: 0.9000\n",
            "\n",
            "Epoch 00009: loss did not improve from 0.04157\n",
            "\n",
            "Epoch 00009: loss did not improve from 0.04157\n",
            "Epoch 10/15\n",
            "240/240 [==============================] - 5s 22ms/step - loss: 2.1724 - acc: 0.4917 - val_loss: 1.0804 - val_acc: 0.3667\n",
            "\n",
            "Epoch 00010: loss did not improve from 0.04157\n",
            "\n",
            "Epoch 00010: loss did not improve from 0.04157\n",
            "Epoch 11/15\n",
            "240/240 [==============================] - 5s 22ms/step - loss: 1.3978 - acc: 0.3375 - val_loss: 1.0313 - val_acc: 0.3500\n",
            "\n",
            "Epoch 00011: loss did not improve from 0.04157\n",
            "\n",
            "Epoch 00011: loss did not improve from 0.04157\n",
            "Epoch 12/15\n",
            "240/240 [==============================] - 5s 22ms/step - loss: 1.1783 - acc: 0.3333 - val_loss: 1.0977 - val_acc: 0.3333\n",
            "\n",
            "Epoch 00012: loss did not improve from 0.04157\n",
            "Restoring model weights from the end of the best epoch\n",
            "\n",
            "Epoch 00012: loss did not improve from 0.04157\n",
            "Epoch 00012: early stopping\n",
            "Train on 240 samples, validate on 60 samples\n",
            "Epoch 1/15\n",
            "240/240 [==============================] - 5s 22ms/step - loss: 0.0233 - acc: 0.9917 - val_loss: 0.0055 - val_acc: 1.0000\n",
            "\n",
            "Epoch 00001: loss improved from inf to 0.02327, saving model to gdrive/My Drive/Colab Notebooks/Pre-Trained/vgg19/freeze/model6/fold_4_epochs-001-val_acc-1.000.hdf5\n",
            "\n",
            "Epoch 00001: loss improved from inf to 0.02327, saving model to gdrive/My Drive/Colab Notebooks/Pre-Trained/vgg19/freeze/model6/best_weight_fold_4.hdf5\n",
            "Epoch 2/15\n",
            "240/240 [==============================] - 5s 22ms/step - loss: 0.0159 - acc: 0.9958 - val_loss: 0.0047 - val_acc: 1.0000\n",
            "\n",
            "Epoch 00002: loss improved from 0.02327 to 0.01589, saving model to gdrive/My Drive/Colab Notebooks/Pre-Trained/vgg19/freeze/model6/fold_4_epochs-002-val_acc-1.000.hdf5\n",
            "\n",
            "Epoch 00002: loss improved from 0.02327 to 0.01589, saving model to gdrive/My Drive/Colab Notebooks/Pre-Trained/vgg19/freeze/model6/best_weight_fold_4.hdf5\n",
            "Epoch 3/15\n",
            "240/240 [==============================] - 5s 22ms/step - loss: 0.0314 - acc: 0.9917 - val_loss: 0.0170 - val_acc: 1.0000\n",
            "\n",
            "Epoch 00003: loss did not improve from 0.01589\n",
            "\n",
            "Epoch 00003: loss did not improve from 0.01589\n",
            "Epoch 4/15\n",
            "240/240 [==============================] - 5s 22ms/step - loss: 0.0394 - acc: 0.9792 - val_loss: 0.0075 - val_acc: 1.0000\n",
            "\n",
            "Epoch 00004: loss did not improve from 0.01589\n",
            "\n",
            "Epoch 00004: loss did not improve from 0.01589\n",
            "Epoch 5/15\n",
            "240/240 [==============================] - 5s 22ms/step - loss: 0.7676 - acc: 0.9083 - val_loss: 0.1021 - val_acc: 0.9667\n",
            "\n",
            "Epoch 00005: loss did not improve from 0.01589\n",
            "\n",
            "Epoch 00005: loss did not improve from 0.01589\n",
            "Epoch 6/15\n",
            "240/240 [==============================] - 5s 22ms/step - loss: 0.6748 - acc: 0.8750 - val_loss: 0.3158 - val_acc: 0.8167\n",
            "\n",
            "Epoch 00006: loss did not improve from 0.01589\n",
            "\n",
            "Epoch 00006: loss did not improve from 0.01589\n",
            "Epoch 7/15\n",
            "240/240 [==============================] - 5s 22ms/step - loss: 0.1765 - acc: 0.9417 - val_loss: 0.0294 - val_acc: 1.0000\n",
            "\n",
            "Epoch 00007: loss did not improve from 0.01589\n",
            "\n",
            "Epoch 00007: loss did not improve from 0.01589\n",
            "Epoch 8/15\n",
            "240/240 [==============================] - 5s 22ms/step - loss: 0.0372 - acc: 0.9875 - val_loss: 0.1415 - val_acc: 0.9667\n",
            "\n",
            "Epoch 00008: loss did not improve from 0.01589\n",
            "\n",
            "Epoch 00008: loss did not improve from 0.01589\n",
            "Epoch 9/15\n",
            "240/240 [==============================] - 5s 22ms/step - loss: 0.6910 - acc: 0.9417 - val_loss: 0.0844 - val_acc: 0.9500\n",
            "\n",
            "Epoch 00009: loss did not improve from 0.01589\n",
            "\n",
            "Epoch 00009: loss did not improve from 0.01589\n",
            "Epoch 10/15\n",
            "240/240 [==============================] - 5s 22ms/step - loss: 0.1077 - acc: 0.9500 - val_loss: 0.0216 - val_acc: 0.9833\n",
            "\n",
            "Epoch 00010: loss did not improve from 0.01589\n",
            "\n",
            "Epoch 00010: loss did not improve from 0.01589\n",
            "Epoch 11/15\n",
            "240/240 [==============================] - 5s 22ms/step - loss: 0.2417 - acc: 0.9417 - val_loss: 0.1275 - val_acc: 0.9667\n",
            "\n",
            "Epoch 00011: loss did not improve from 0.01589\n",
            "Restoring model weights from the end of the best epoch\n",
            "\n",
            "Epoch 00011: loss did not improve from 0.01589\n",
            "Epoch 00011: early stopping\n",
            "Train on 240 samples, validate on 60 samples\n",
            "Epoch 1/15\n",
            "240/240 [==============================] - 5s 22ms/step - loss: 0.0226 - acc: 0.9917 - val_loss: 0.0020 - val_acc: 1.0000\n",
            "\n",
            "Epoch 00001: loss improved from inf to 0.02263, saving model to gdrive/My Drive/Colab Notebooks/Pre-Trained/vgg19/freeze/model6/fold_5_epochs-001-val_acc-1.000.hdf5\n",
            "\n",
            "Epoch 00001: loss improved from inf to 0.02263, saving model to gdrive/My Drive/Colab Notebooks/Pre-Trained/vgg19/freeze/model6/best_weight_fold_5.hdf5\n",
            "Epoch 2/15\n",
            "240/240 [==============================] - 5s 22ms/step - loss: 0.0288 - acc: 0.9958 - val_loss: 0.0201 - val_acc: 0.9833\n",
            "\n",
            "Epoch 00002: loss did not improve from 0.02263\n",
            "\n",
            "Epoch 00002: loss did not improve from 0.02263\n",
            "Epoch 3/15\n",
            "240/240 [==============================] - 5s 22ms/step - loss: 0.6051 - acc: 0.8917 - val_loss: 0.0479 - val_acc: 0.9833\n",
            "\n",
            "Epoch 00003: loss did not improve from 0.02263\n",
            "\n",
            "Epoch 00003: loss did not improve from 0.02263\n",
            "Epoch 4/15\n",
            "240/240 [==============================] - 5s 22ms/step - loss: 0.2987 - acc: 0.9292 - val_loss: 0.1091 - val_acc: 0.9667\n",
            "\n",
            "Epoch 00004: loss did not improve from 0.02263\n",
            "\n",
            "Epoch 00004: loss did not improve from 0.02263\n",
            "Epoch 5/15\n",
            "240/240 [==============================] - 5s 22ms/step - loss: 1.6184 - acc: 0.8333 - val_loss: 0.1968 - val_acc: 0.8667\n",
            "\n",
            "Epoch 00005: loss did not improve from 0.02263\n",
            "\n",
            "Epoch 00005: loss did not improve from 0.02263\n",
            "Epoch 6/15\n",
            "240/240 [==============================] - 5s 22ms/step - loss: 0.1977 - acc: 0.9375 - val_loss: 0.0147 - val_acc: 1.0000\n",
            "\n",
            "Epoch 00006: loss did not improve from 0.02263\n",
            "\n",
            "Epoch 00006: loss did not improve from 0.02263\n",
            "Epoch 7/15\n",
            "240/240 [==============================] - 5s 22ms/step - loss: 31.7623 - acc: 0.6708 - val_loss: 1.9466 - val_acc: 0.5833\n",
            "\n",
            "Epoch 00007: loss did not improve from 0.02263\n",
            "\n",
            "Epoch 00007: loss did not improve from 0.02263\n",
            "Epoch 8/15\n",
            "240/240 [==============================] - 5s 22ms/step - loss: 25.0579 - acc: 0.3917 - val_loss: 1.7670 - val_acc: 0.3000\n",
            "\n",
            "Epoch 00008: loss did not improve from 0.02263\n",
            "\n",
            "Epoch 00008: loss did not improve from 0.02263\n",
            "Epoch 9/15\n",
            "240/240 [==============================] - 5s 22ms/step - loss: 1.3417 - acc: 0.3458 - val_loss: 2.0047 - val_acc: 0.3333\n",
            "\n",
            "Epoch 00009: loss did not improve from 0.02263\n",
            "\n",
            "Epoch 00009: loss did not improve from 0.02263\n",
            "Epoch 10/15\n",
            "240/240 [==============================] - 5s 22ms/step - loss: 1.1162 - acc: 0.3458 - val_loss: 2.1847 - val_acc: 0.3333\n",
            "\n",
            "Epoch 00010: loss did not improve from 0.02263\n",
            "\n",
            "Epoch 00010: loss did not improve from 0.02263\n",
            "Epoch 11/15\n",
            "240/240 [==============================] - 5s 22ms/step - loss: 1.2387 - acc: 0.3417 - val_loss: 1.5711 - val_acc: 0.3167\n",
            "\n",
            "Epoch 00011: loss did not improve from 0.02263\n",
            "Restoring model weights from the end of the best epoch\n",
            "\n",
            "Epoch 00011: loss did not improve from 0.02263\n",
            "Epoch 00011: early stopping\n"
          ],
          "name": "stdout"
        }
      ]
    },
    {
      "cell_type": "code",
      "metadata": {
        "id": "9DtYvcnYXtuq",
        "colab_type": "code",
        "colab": {
          "base_uri": "https://localhost:8080/",
          "height": 104
        },
        "outputId": "da4fc9b8-85ad-4120-abad-fe5f2d8a9a52"
      },
      "source": [
        "# model_path = \"gdrive/My Drive/Colab Notebooks/cnn/tanpa-kfold/model1000/nyoba5/\"\n",
        "print(\"Best Fold\", best_fold_index + 1)\n",
        "best_weight = model_path + \"best_weight_fold_{}.hdf5\".format(best_fold_index + 1)\n",
        "# best_weight = model_path + \"best_weight_fold_1.hdf5\"\n",
        "print(\"best_weight\", best_weight)\n",
        "\n",
        "# model = cnn2()\n",
        "model.load_weights(best_weight)\n",
        "model.compile(loss='categorical_crossentropy', optimizer='adam',  metrics= ['acc'])\n",
        "test_scores = model.evaluate(data2, ans2, verbose=1)\n",
        "# print(\"CNN Loss: %.2f%%\" % (100-scores[1]*100))\n",
        "# print(\"CNN Accuracy: %.2f%%\" % (scores[1]*100))\n",
        "print(\"CNN loss: %.2f%%\" % (100 - test_scores[1] * 100))\n",
        "print(\"trained model directly, accuracy: {:5.2f}%\".format(test_scores[1] * 100))"
      ],
      "execution_count": null,
      "outputs": [
        {
          "output_type": "stream",
          "text": [
            "Best Fold 1\n",
            "best_weight gdrive/My Drive/Colab Notebooks/Pre-Trained/vgg19/freeze/model6/best_weight_fold_1.hdf5\n",
            "9/9 [==============================] - 0s 19ms/step\n",
            "CNN loss: 22.22%\n",
            "trained model directly, accuracy: 77.78%\n"
          ],
          "name": "stdout"
        }
      ]
    },
    {
      "cell_type": "code",
      "metadata": {
        "id": "_m3FMgZgqqxS",
        "colab_type": "code",
        "colab": {
          "base_uri": "https://localhost:8080/",
          "height": 329
        },
        "outputId": "4522f762-2991-4b12-9dea-790cc6f11990"
      },
      "source": [
        "#print classification report\n",
        "from sklearn import metrics\n",
        "from imblearn.metrics import sensitivity_specificity_support\n",
        "\n",
        "true_labels = ['Abnormal','Normal Leukemia','Normal Noncancer']\n",
        "labels = [0,1,2]\n",
        "Y_pred = model.predict(data2, batch_size=data2.shape[0])\n",
        "preds = np.argmax(Y_pred, axis=1)\n",
        "y_test_non_one_hot = np.argmax(ans2, axis=1)\n",
        "\n",
        "# Save variable\n",
        "acc = metrics.accuracy_score(y_test_non_one_hot, preds)\n",
        "cm = metrics.confusion_matrix(y_test_non_one_hot, preds, labels)\n",
        "f1 = metrics.f1_score(y_test_non_one_hot, preds, average='micro')\n",
        "precision = metrics.precision_score(y_test_non_one_hot, preds, average='micro')\n",
        "recall = metrics.recall_score(y_test_non_one_hot, preds, average='micro')\n",
        "# sens_mac = sensitivity_specificity_support(ans2, Y_pred, average='macro')\n",
        "# sens_mic = sensitivity_specificity_support(ans2, Y_pred, average='micro')\n",
        "# sens_weight = sensitivity_specificity_support(ans2, Y_pred, average='weighted')\n",
        "classification_report = metrics.classification_report(y_test_non_one_hot, preds,labels=labels,target_names=true_labels) \n",
        "print(\"Accuracy\", acc)\n",
        "print(\"Precision\", precision)\n",
        "print(\"Recall\", recall)\n",
        "print(\"F1-score\", f1)\n",
        "# print(\"Sensitivity Specificity Macro\", sens_mac)\n",
        "# print(\"Sensitivity Specificity Micro\", sens_mic)\n",
        "# print(\"Sensitivity Specificity Weighted\", sens_weight)\n",
        "print(classification_report)\n",
        "\n",
        "print(\"Confusion Matrix\")\n",
        "print(cm)"
      ],
      "execution_count": null,
      "outputs": [
        {
          "output_type": "stream",
          "text": [
            "Accuracy 0.7777777777777778\n",
            "Precision 0.7777777777777778\n",
            "Recall 0.7777777777777778\n",
            "F1-score 0.7777777777777778\n",
            "                  precision    recall  f1-score   support\n",
            "\n",
            "        Abnormal       0.75      1.00      0.86         3\n",
            " Normal Leukemia       0.67      0.67      0.67         3\n",
            "Normal Noncancer       1.00      0.67      0.80         3\n",
            "\n",
            "        accuracy                           0.78         9\n",
            "       macro avg       0.81      0.78      0.77         9\n",
            "    weighted avg       0.81      0.78      0.77         9\n",
            "\n",
            "Confusion Matrix\n",
            "[[3 0 0]\n",
            " [1 2 0]\n",
            " [0 1 2]]\n"
          ],
          "name": "stdout"
        }
      ]
    },
    {
      "cell_type": "code",
      "metadata": {
        "id": "V674oMWfgJNY",
        "colab_type": "code",
        "colab": {
          "base_uri": "https://localhost:8080/",
          "height": 283
        },
        "outputId": "d572e487-8af4-4a01-aa2b-af3909111dd2"
      },
      "source": [
        "from mlxtend.plotting import plot_confusion_matrix\n",
        "import matplotlib.pyplot as plt\n",
        "import numpy as np \n",
        "           \n",
        "fig, ax = plot_confusion_matrix(conf_mat=cm,\n",
        "                                colorbar=True,\n",
        "                                show_absolute=True,\n",
        "                                show_normed=False)\n",
        "plt.show()\n",
        "# plt.savefig('gdrive/My Drive/Colab Notebooks/cnn/model_data1000/cm-.png')"
      ],
      "execution_count": null,
      "outputs": [
        {
          "output_type": "display_data",
          "data": {
            "image/png": "[encoded data removed]",
            "text/plain": [
              "<Figure size 432x288 with 2 Axes>"
            ]
          },
          "metadata": {
            "tags": [],
            "needs_background": "light"
          }
        }
      ]
    },
    {
      "cell_type": "code",
      "metadata": {
        "id": "vJUdfZ4ZgUJV",
        "colab_type": "code",
        "colab": {
          "base_uri": "https://localhost:8080/",
          "height": 350
        },
        "outputId": "396d7e98-b394-479a-9a72-b16547c26ab1"
      },
      "source": [
        "import numpy as np\n",
        "from scipy import interp\n",
        "import matplotlib.pyplot as plt\n",
        "from itertools import cycle\n",
        "from sklearn.metrics import roc_curve, auc\n",
        "\n",
        "# Plot linewidth.\n",
        "lw = 2\n",
        "\n",
        "# Compute ROC curve and ROC area for each class\n",
        "fpr = dict()\n",
        "tpr = dict()\n",
        "roc_auc = dict()\n",
        "n_classes = 3\n",
        "for i in range(n_classes):\n",
        "    fpr[i], tpr[i], _ = roc_curve(ans2[:, i], Y_pred[:, i])\n",
        "    roc_auc[i] = auc(fpr[i], tpr[i])\n",
        "\n",
        "# Compute micro-average ROC curve and ROC area\n",
        "fpr[\"micro\"], tpr[\"micro\"], _ = roc_curve(ans2.ravel(), Y_pred.ravel())\n",
        "roc_auc[\"micro\"] = auc(fpr[\"micro\"], tpr[\"micro\"])\n",
        "\n",
        "# Compute macro-average ROC curve and ROC area\n",
        "\n",
        "# First aggregate all false positive rates\n",
        "all_fpr = np.unique(np.concatenate([fpr[i] for i in range(n_classes)]))\n",
        "\n",
        "# Then interpolate all ROC curves at this points\n",
        "mean_tpr = np.zeros_like(all_fpr)\n",
        "for i in range(n_classes):\n",
        "    mean_tpr += interp(all_fpr, fpr[i], tpr[i])\n",
        "\n",
        "# Finally average it and compute AUC\n",
        "mean_tpr /= n_classes\n",
        "\n",
        "fpr[\"macro\"] = all_fpr\n",
        "tpr[\"macro\"] = mean_tpr\n",
        "roc_auc[\"macro\"] = auc(fpr[\"macro\"], tpr[\"macro\"])\n",
        "\n",
        "# Plot all ROC curves\n",
        "plt.figure(1)\n",
        "# plt.plot(fpr[\"micro\"], tpr[\"micro\"],\n",
        "#          label='micro-average ROC curve (area = {0:0.2f})'\n",
        "#                ''.format(roc_auc[\"micro\"]),\n",
        "#          color='deeppink', linestyle=':', linewidth=4)\n",
        "\n",
        "plt.plot(fpr[\"macro\"], tpr[\"macro\"],\n",
        "         label='macro-average ROC curve (area = {0:0.2f})'\n",
        "               ''.format(roc_auc[\"macro\"]),\n",
        "         color='navy', linestyle=':', linewidth=4)\n",
        "\n",
        "colors = cycle(['hotpink', 'mediumslateblue', 'yellowgreen', 'deepskyblue', 'darkorange'])\n",
        "for i, color in zip(range(n_classes), colors):\n",
        "    plt.plot(fpr[i], tpr[i], color=color, lw=lw,\n",
        "             label='ROC curve of class {0} (area = {1:0.2f})'\n",
        "             ''.format(i, roc_auc[i]))\n",
        "\n",
        "plt.plot([0, 1], [0, 1], 'k--', lw=lw)\n",
        "plt.xlim([0.0, 1.0])\n",
        "plt.ylim([0.0, 1.05])\n",
        "plt.xlabel('False Positive Rate')\n",
        "plt.ylabel('True Positive Rate')\n",
        "plt.title('Some extension of Receiver operating characteristic to multi-class')\n",
        "plt.legend(loc=\"lower right\")\n",
        "plt.show()\n",
        "plt.savefig('gdrive/My Drive/Colab Notebooks/cnn/model_data1000/roc-2.png')"
      ],
      "execution_count": null,
      "outputs": [
        {
          "output_type": "stream",
          "text": [
            "/usr/local/lib/python3.6/dist-packages/ipykernel_launcher.py:31: DeprecationWarning: scipy.interp is deprecated and will be removed in SciPy 2.0.0, use numpy.interp instead\n"
          ],
          "name": "stderr"
        },
        {
          "output_type": "display_data",
          "data": {
            "image/png": "[encoded data removed]",
            "text/plain": [
              "<Figure size 432x288 with 1 Axes>"
            ]
          },
          "metadata": {
            "tags": [],
            "needs_background": "light"
          }
        },
        {
          "output_type": "display_data",
          "data": {
            "text/plain": [
              "<Figure size 432x288 with 0 Axes>"
            ]
          },
          "metadata": {
            "tags": []
          }
        }
      ]
    }
  ]
}